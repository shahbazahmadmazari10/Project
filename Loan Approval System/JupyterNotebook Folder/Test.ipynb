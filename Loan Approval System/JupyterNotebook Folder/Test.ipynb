{
 "cells": [
  {
   "cell_type": "code",
   "execution_count": 28,
   "id": "d097618d-a3a1-415a-bc71-80dd2ad39dc4",
   "metadata": {},
   "outputs": [],
   "source": [
    "import pandas as pd\n",
    "import numpy as np\n",
    "import joblib\n",
    "import os\n",
    "from sklearn.ensemble import RandomForestClassifier"
   ]
  },
  {
   "cell_type": "code",
   "execution_count": 30,
   "id": "44032081-bfd2-4830-bb05-9e7913d2d4a2",
   "metadata": {},
   "outputs": [],
   "source": [
    "# Load Model and LabelEncoder\n",
    "model = joblib.load(r'Model/rfc.pickle')\n",
    "encoder = joblib.load(r'Encoder/le.pickle')"
   ]
  },
  {
   "cell_type": "code",
   "execution_count": 32,
   "id": "5c78e9b0-a876-4364-878c-4cc6e661f5bd",
   "metadata": {},
   "outputs": [
    {
     "name": "stdout",
     "output_type": "stream",
     "text": [
      "Enter the Information for Loan Approval\n",
      "\n"
     ]
    },
    {
     "name": "stdin",
     "output_type": "stream",
     "text": [
      "Gender (Male/Female):  Male\n",
      "Married (Yes/No):  Yes\n",
      "Dependents:  0\n",
      "Education (Graduate/Not Graduate):  Not Graduate\n",
      "Self Employed (Yes/No):  No\n",
      "Credit History (0/1):  1\n",
      "Property Area (Rural/Urban):  Urban\n",
      "Applicant Income:  2583\n",
      "Coapplicant Income:  2358\n",
      "Loan Amount:  120\n",
      "Loan Amount Term (in months):  360\n"
     ]
    },
    {
     "data": {
      "text/html": [
       "<div>\n",
       "<style scoped>\n",
       "    .dataframe tbody tr th:only-of-type {\n",
       "        vertical-align: middle;\n",
       "    }\n",
       "\n",
       "    .dataframe tbody tr th {\n",
       "        vertical-align: top;\n",
       "    }\n",
       "\n",
       "    .dataframe thead th {\n",
       "        text-align: right;\n",
       "    }\n",
       "</style>\n",
       "<table border=\"1\" class=\"dataframe\">\n",
       "  <thead>\n",
       "    <tr style=\"text-align: right;\">\n",
       "      <th></th>\n",
       "      <th>Gender</th>\n",
       "      <th>Married</th>\n",
       "      <th>Dependents</th>\n",
       "      <th>Education</th>\n",
       "      <th>Self_Employed</th>\n",
       "      <th>Credit_History</th>\n",
       "      <th>Property_Area</th>\n",
       "      <th>ApplicantIncomeLog</th>\n",
       "      <th>LoanAmountLog</th>\n",
       "      <th>Loan_Amount_Term_log</th>\n",
       "      <th>Total_Income_log</th>\n",
       "    </tr>\n",
       "  </thead>\n",
       "  <tbody>\n",
       "    <tr>\n",
       "      <th>0</th>\n",
       "      <td>Male</td>\n",
       "      <td>Yes</td>\n",
       "      <td>0</td>\n",
       "      <td>Not Graduate</td>\n",
       "      <td>No</td>\n",
       "      <td>1.0</td>\n",
       "      <td>Urban</td>\n",
       "      <td>7.857094</td>\n",
       "      <td>120.0</td>\n",
       "      <td>5.888878</td>\n",
       "      <td>8.505525</td>\n",
       "    </tr>\n",
       "  </tbody>\n",
       "</table>\n",
       "</div>"
      ],
      "text/plain": [
       "  Gender Married Dependents     Education Self_Employed  Credit_History  \\\n",
       "0   Male     Yes          0  Not Graduate            No             1.0   \n",
       "\n",
       "  Property_Area  ApplicantIncomeLog  LoanAmountLog  Loan_Amount_Term_log  \\\n",
       "0         Urban            7.857094          120.0              5.888878   \n",
       "\n",
       "   Total_Income_log  \n",
       "0          8.505525  "
      ]
     },
     "execution_count": 32,
     "metadata": {},
     "output_type": "execute_result"
    }
   ],
   "source": [
    "import pandas as pd\n",
    "\n",
    "print('Enter the Information for Loan Approval\\n')\n",
    "Gender = input('Gender (Male/Female): ')\n",
    "Married = input('Married (Yes/No): ')\n",
    "Dependents = input('Dependents: ')\n",
    "Education = input('Education (Graduate/Not Graduate): ')\n",
    "Self_Employed = input('Self Employed (Yes/No): ')\n",
    "Credit_History = float(input('Credit History (0/1): '))  # Convert to float\n",
    "Property_Area = input('Property Area (Rural/Urban): ')\n",
    "ApplicantIncome = int(input('Applicant Income: '))\n",
    "CoapplicantIncome = int(input('Coapplicant Income: '))\n",
    "LoanAmount = float(input('Loan Amount: '))  # Convert to float\n",
    "LoanAmountTerm = float(input('Loan Amount Term (in months): '))  # Convert to float\n",
    "\n",
    "#Creating a new Feature\n",
    "TotalIncome = ApplicantIncome + CoapplicantIncome\n",
    "\n",
    "#Applying Log Transform\n",
    "ApplicantIncomeLog = np.log(1+ ApplicantIncome)\n",
    "LoanAmountLog = np.log(1+LoanAmount)\n",
    "LoanAmountTermLog = np.log(1+LoanAmountTerm)\n",
    "TotalIncomeLog = np.log(1+TotalIncome)\n",
    "\n",
    "# Create a DataFrame for the new loan record\n",
    "NewLoanRecordFeatures = pd.DataFrame([{\n",
    "    'Gender': Gender,\n",
    "    'Married': Married,\n",
    "    'Dependents': Dependents,\n",
    "    'Education': Education,\n",
    "    'Self_Employed': Self_Employed,\n",
    "    'Credit_History': Credit_History,\n",
    "    'Property_Area': Property_Area,\n",
    "    'ApplicantIncomeLog': ApplicantIncomeLog,\n",
    "    'LoanAmountLog': LoanAmount,\n",
    "    'Loan_Amount_Term_log': LoanAmountTermLog,\n",
    "    'Total_Income_log': TotalIncomeLog\n",
    "}])\n",
    "\n",
    "NewLoanRecordFeatures.head()"
   ]
  },
  {
   "cell_type": "code",
   "execution_count": 18,
   "id": "9cef4f39-cca5-4b7b-bb05-c52b97ca26aa",
   "metadata": {},
   "outputs": [
    {
     "data": {
      "text/plain": [
       "Gender                    int32\n",
       "Married                   int32\n",
       "Dependents                int32\n",
       "Education                 int32\n",
       "Self_Employed             int32\n",
       "Credit_History          float64\n",
       "Property_Area             int32\n",
       "ApplicantIncomeLog      float64\n",
       "LoanAmountLog           float64\n",
       "Loan_Amount_Term_log    float64\n",
       "Total_Income_log        float64\n",
       "LoanStatus                int32\n",
       "dtype: object"
      ]
     },
     "execution_count": 18,
     "metadata": {},
     "output_type": "execute_result"
    }
   ],
   "source": [
    "NewLoanRecordFeatures.dtypes"
   ]
  },
  {
   "cell_type": "code",
   "execution_count": 34,
   "id": "ae22e248-07cd-4d9e-8c42-ba3f3401399e",
   "metadata": {},
   "outputs": [],
   "source": [
    "cols = ['Gender','Married','Education','Dependents','Self_Employed','Property_Area']\n",
    "for col in cols:\n",
    "  NewLoanRecordFeatures[col] =  encoder.fit_transform(NewLoanRecordFeatures[col])"
   ]
  },
  {
   "cell_type": "code",
   "execution_count": 36,
   "id": "d07862b4-e6e3-49d6-9c37-1f64e5c0e61b",
   "metadata": {},
   "outputs": [
    {
     "data": {
      "text/html": [
       "<div>\n",
       "<style scoped>\n",
       "    .dataframe tbody tr th:only-of-type {\n",
       "        vertical-align: middle;\n",
       "    }\n",
       "\n",
       "    .dataframe tbody tr th {\n",
       "        vertical-align: top;\n",
       "    }\n",
       "\n",
       "    .dataframe thead th {\n",
       "        text-align: right;\n",
       "    }\n",
       "</style>\n",
       "<table border=\"1\" class=\"dataframe\">\n",
       "  <thead>\n",
       "    <tr style=\"text-align: right;\">\n",
       "      <th></th>\n",
       "      <th>Gender</th>\n",
       "      <th>Married</th>\n",
       "      <th>Dependents</th>\n",
       "      <th>Education</th>\n",
       "      <th>Self_Employed</th>\n",
       "      <th>Credit_History</th>\n",
       "      <th>Property_Area</th>\n",
       "      <th>ApplicantIncomeLog</th>\n",
       "      <th>LoanAmountLog</th>\n",
       "      <th>Loan_Amount_Term_log</th>\n",
       "      <th>Total_Income_log</th>\n",
       "    </tr>\n",
       "  </thead>\n",
       "  <tbody>\n",
       "    <tr>\n",
       "      <th>0</th>\n",
       "      <td>0</td>\n",
       "      <td>0</td>\n",
       "      <td>0</td>\n",
       "      <td>0</td>\n",
       "      <td>0</td>\n",
       "      <td>1.0</td>\n",
       "      <td>0</td>\n",
       "      <td>7.857094</td>\n",
       "      <td>120.0</td>\n",
       "      <td>5.888878</td>\n",
       "      <td>8.505525</td>\n",
       "    </tr>\n",
       "  </tbody>\n",
       "</table>\n",
       "</div>"
      ],
      "text/plain": [
       "   Gender  Married  Dependents  Education  Self_Employed  Credit_History  \\\n",
       "0       0        0           0          0              0             1.0   \n",
       "\n",
       "   Property_Area  ApplicantIncomeLog  LoanAmountLog  Loan_Amount_Term_log  \\\n",
       "0              0            7.857094          120.0              5.888878   \n",
       "\n",
       "   Total_Income_log  \n",
       "0          8.505525  "
      ]
     },
     "execution_count": 36,
     "metadata": {},
     "output_type": "execute_result"
    }
   ],
   "source": [
    "NewLoanRecordFeatures.head()"
   ]
  },
  {
   "cell_type": "code",
   "execution_count": 38,
   "id": "9e91ccdb-4863-4ea9-8e01-e8bcab583d69",
   "metadata": {},
   "outputs": [
    {
     "data": {
      "text/html": [
       "<div>\n",
       "<style scoped>\n",
       "    .dataframe tbody tr th:only-of-type {\n",
       "        vertical-align: middle;\n",
       "    }\n",
       "\n",
       "    .dataframe tbody tr th {\n",
       "        vertical-align: top;\n",
       "    }\n",
       "\n",
       "    .dataframe thead th {\n",
       "        text-align: right;\n",
       "    }\n",
       "</style>\n",
       "<table border=\"1\" class=\"dataframe\">\n",
       "  <thead>\n",
       "    <tr style=\"text-align: right;\">\n",
       "      <th></th>\n",
       "      <th>Gender</th>\n",
       "      <th>Married</th>\n",
       "      <th>Dependents</th>\n",
       "      <th>Education</th>\n",
       "      <th>Self_Employed</th>\n",
       "      <th>Credit_History</th>\n",
       "      <th>Property_Area</th>\n",
       "      <th>ApplicantIncomeLog</th>\n",
       "      <th>LoanAmountLog</th>\n",
       "      <th>Loan_Amount_Term_log</th>\n",
       "      <th>Total_Income_log</th>\n",
       "      <th>LoanStatus</th>\n",
       "    </tr>\n",
       "  </thead>\n",
       "  <tbody>\n",
       "    <tr>\n",
       "      <th>0</th>\n",
       "      <td>0</td>\n",
       "      <td>0</td>\n",
       "      <td>0</td>\n",
       "      <td>0</td>\n",
       "      <td>0</td>\n",
       "      <td>1.0</td>\n",
       "      <td>0</td>\n",
       "      <td>7.857094</td>\n",
       "      <td>120.0</td>\n",
       "      <td>5.888878</td>\n",
       "      <td>8.505525</td>\n",
       "      <td>0</td>\n",
       "    </tr>\n",
       "  </tbody>\n",
       "</table>\n",
       "</div>"
      ],
      "text/plain": [
       "   Gender  Married  Dependents  Education  Self_Employed  Credit_History  \\\n",
       "0       0        0           0          0              0             1.0   \n",
       "\n",
       "   Property_Area  ApplicantIncomeLog  LoanAmountLog  Loan_Amount_Term_log  \\\n",
       "0              0            7.857094          120.0              5.888878   \n",
       "\n",
       "   Total_Income_log  LoanStatus  \n",
       "0          8.505525           0  "
      ]
     },
     "execution_count": 38,
     "metadata": {},
     "output_type": "execute_result"
    }
   ],
   "source": [
    "NewLoanRecordFeatures = NewLoanRecordFeatures[model.feature_names_in_]\n",
    "NewPrediction = model.predict(NewLoanRecordFeatures)\n",
    "NewLoanRecordFeatures['LoanStatus'] = NewPrediction\n",
    "NewLoanRecordFeatures.head()"
   ]
  }
 ],
 "metadata": {
  "kernelspec": {
   "display_name": "Python 3 (ipykernel)",
   "language": "python",
   "name": "python3"
  },
  "language_info": {
   "codemirror_mode": {
    "name": "ipython",
    "version": 3
   },
   "file_extension": ".py",
   "mimetype": "text/x-python",
   "name": "python",
   "nbconvert_exporter": "python",
   "pygments_lexer": "ipython3",
   "version": "3.12.4"
  }
 },
 "nbformat": 4,
 "nbformat_minor": 5
}
